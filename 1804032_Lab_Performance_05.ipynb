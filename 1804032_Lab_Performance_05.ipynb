{
  "nbformat": 4,
  "nbformat_minor": 0,
  "metadata": {
    "colab": {
      "provenance": []
    },
    "kernelspec": {
      "name": "python3",
      "display_name": "Python 3"
    },
    "language_info": {
      "name": "python"
    }
  },
  "cells": [
    {
      "cell_type": "markdown",
      "source": [
        "# Implementing Back Propagation Algorithm"
      ],
      "metadata": {
        "id": "PR2XuNiciCN9"
      }
    },
    {
      "cell_type": "code",
      "source": [
        "import numpy as np\n",
        "import pandas as pd\n",
        "import matplotlib.pyplot as plt\n",
        "from sklearn.model_selection import train_test_split\n",
        "from sklearn.preprocessing import LabelEncoder\n",
        "from sklearn.preprocessing import OneHotEncoder"
      ],
      "metadata": {
        "id": "ahTy8IY9Pw06"
      },
      "execution_count": null,
      "outputs": []
    },
    {
      "cell_type": "markdown",
      "source": [
        "## 1. Sigmoid and sigmoid derivative function\n"
      ],
      "metadata": {
        "id": "299Cg3rkiGQN"
      }
    },
    {
      "cell_type": "code",
      "source": [
        "def sigmoid(z):\n",
        "    return 1 / (1 + np.exp(-z))\n",
        "\n",
        "def sigmoid_derivative(z):\n",
        "    return sigmoid(z) * (1 - sigmoid(z))"
      ],
      "metadata": {
        "id": "gOUK6FVAPztR"
      },
      "execution_count": null,
      "outputs": []
    },
    {
      "cell_type": "markdown",
      "source": [
        "## 2. Initialization of neural network parameters"
      ],
      "metadata": {
        "id": "8g_SUtqfiQoc"
      }
    },
    {
      "cell_type": "code",
      "source": [
        "def initialize_parameters(input_size, hidden_size, output_size):\n",
        "    np.random.seed(35)\n",
        "    W1 = np.random.randn(hidden_size, input_size).astype(float) * np.sqrt(2 / input_size)\n",
        "    b1 = np.zeros((hidden_size, 1)).astype(float)\n",
        "    W2 = np.random.randn(output_size, hidden_size).astype(float) * np.sqrt(2 / hidden_size)\n",
        "    b2 = np.zeros((output_size, 1)).astype(float)\n",
        "    return {\"W1\": W1, \"b1\": b1, \"W2\": W2, \"b2\": b2}"
      ],
      "metadata": {
        "id": "0p5N9I6yP3b2"
      },
      "execution_count": null,
      "outputs": []
    },
    {
      "cell_type": "markdown",
      "source": [
        "## 3. Implementing forward propagation function"
      ],
      "metadata": {
        "id": "dku9JeboiTT3"
      }
    },
    {
      "cell_type": "code",
      "source": [
        "def forward_propagation(X, parameters):\n",
        "    W1, b1, W2, b2 = parameters[\"W1\"], parameters[\"b1\"], parameters[\"W2\"], parameters[\"b2\"]\n",
        "    Z1 = np.dot(W1, X.T) + b1\n",
        "    A1 = sigmoid(Z1)\n",
        "    Z2 = np.dot(W2, A1) + b2\n",
        "    A2 = np.exp(Z2) / np.sum(np.exp(Z2), axis=0)\n",
        "    return A1, A2"
      ],
      "metadata": {
        "id": "pSQQXurxP6of"
      },
      "execution_count": null,
      "outputs": []
    },
    {
      "cell_type": "markdown",
      "source": [
        "## 4. Implementing backpropagation function"
      ],
      "metadata": {
        "id": "8ac7t3NniZnI"
      }
    },
    {
      "cell_type": "code",
      "source": [
        "def backpropagation(X, y, A1, A2, parameters):\n",
        "    m = X.shape[0]\n",
        "    W1, b1, W2, b2 = parameters[\"W1\"], parameters[\"b1\"], parameters[\"W2\"], parameters[\"b2\"]\n",
        "\n",
        "    dZ2 = A2 - y.T\n",
        "    dW2 = (1 / m) * np.dot(dZ2, A1.T)\n",
        "    db2 = (1 / m) * np.sum(dZ2, axis=1, keepdims=True)\n",
        "    dZ1 = np.dot(W2.T, dZ2) * sigmoid_derivative(A1)\n",
        "    dW1 = (1 / m) * np.dot(dZ1, X)\n",
        "    db1 = (1 / m) * np.sum(dZ1, axis=1, keepdims=True)\n",
        "\n",
        "    return {\"dW1\": dW1, \"db1\": db1, \"dW2\": dW2, \"db2\": db2}"
      ],
      "metadata": {
        "id": "RrGgOR63P6-X"
      },
      "execution_count": null,
      "outputs": []
    },
    {
      "cell_type": "markdown",
      "source": [
        "## 5. Implementing training function"
      ],
      "metadata": {
        "id": "yhBzDKhricrx"
      }
    },
    {
      "cell_type": "code",
      "source": [
        "def train(X, y, input_size, hidden_size, output_size, learning_rate, num_epochs):\n",
        "    parameters = initialize_parameters(input_size, hidden_size, output_size)\n",
        "    loss_list = []\n",
        "    for epoch in range(num_epochs):\n",
        "        A1, A2 = forward_propagation(X, parameters)\n",
        "        gradients = backpropagation(X, y, A1, A2, parameters)\n",
        "\n",
        "        parameters[\"W1\"] -= learning_rate * gradients[\"dW1\"]\n",
        "        parameters[\"b1\"] -= learning_rate * gradients[\"db1\"]\n",
        "        parameters[\"W2\"] -= learning_rate * gradients[\"dW2\"]\n",
        "        parameters[\"b2\"] -= learning_rate * gradients[\"db2\"]\n",
        "\n",
        "        loss = -np.sum(y * np.log(A2.T)) / X.shape[0]\n",
        "        loss_list.append(loss)\n",
        "\n",
        "    return parameters, loss_list"
      ],
      "metadata": {
        "id": "rRxTChg8QBHW"
      },
      "execution_count": null,
      "outputs": []
    },
    {
      "cell_type": "markdown",
      "source": [
        "## 6. Implementing prediction function"
      ],
      "metadata": {
        "id": "pxX3LAZdikk6"
      }
    },
    {
      "cell_type": "code",
      "source": [
        "def predict(X, parameters):\n",
        "    _, A2 = forward_propagation(X, parameters)\n",
        "    return np.argmax(A2, axis=0)\n"
      ],
      "metadata": {
        "id": "9gKFgCvVQG59"
      },
      "execution_count": null,
      "outputs": []
    },
    {
      "cell_type": "code",
      "source": [
        "from google.colab import drive\n",
        "drive.mount('/content/drive')"
      ],
      "metadata": {
        "id": "59bbExoAiokg"
      },
      "execution_count": null,
      "outputs": []
    },
    {
      "cell_type": "code",
      "source": [
        "data = pd.read_csv('/content/drive/MyDrive/Colab Notebooks/1804032_Lab 05_Dataset.csv')\n",
        "data = np.array(data)\n",
        "\n",
        "X = data[:, :-1].astype(float)\n",
        "y = data[:, -1]"
      ],
      "metadata": {
        "id": "vFqStMkDQLFF"
      },
      "execution_count": null,
      "outputs": []
    },
    {
      "cell_type": "code",
      "source": [
        "label_encoder = LabelEncoder()\n",
        "y_encoded = label_encoder.fit_transform(y)\n"
      ],
      "metadata": {
        "id": "yENji3EEQRLB"
      },
      "execution_count": null,
      "outputs": []
    },
    {
      "cell_type": "code",
      "source": [
        "onehot_encoder = OneHotEncoder(sparse=False)\n",
        "y_onehot = onehot_encoder.fit_transform(y_encoded.reshape(-1, 1))"
      ],
      "metadata": {
        "colab": {
          "base_uri": "https://localhost:8080/"
        },
        "id": "CTXmr9rpQUOi",
        "outputId": "fd2bec74-03be-4d48-e056-b09939a37b31"
      },
      "execution_count": null,
      "outputs": [
        {
          "output_type": "stream",
          "name": "stderr",
          "text": [
            "/usr/local/lib/python3.10/dist-packages/sklearn/preprocessing/_encoders.py:868: FutureWarning: `sparse` was renamed to `sparse_output` in version 1.2 and will be removed in 1.4. `sparse_output` is ignored unless you leave `sparse` to its default value.\n",
            "  warnings.warn(\n"
          ]
        }
      ]
    },
    {
      "cell_type": "markdown",
      "source": [
        "## 7. Splitting the data into training and testing sets"
      ],
      "metadata": {
        "id": "8UYEm89hi3Ch"
      }
    },
    {
      "cell_type": "code",
      "source": [
        "X_train, X_test, y_train, y_test = train_test_split(X, y_onehot, test_size=0.2, random_state=42)\n",
        "\n",
        "\n",
        "input_size = X_train.shape[1]\n",
        "hidden_size = 7\n",
        "output_size = y_train.shape[1]\n",
        "learning_rate = 0.1\n",
        "num_epochs = 1000"
      ],
      "metadata": {
        "id": "P-9gczNCQa-_"
      },
      "execution_count": null,
      "outputs": []
    },
    {
      "cell_type": "code",
      "source": [
        "trained_parameters, loss_list = train(X_train, y_train, input_size, hidden_size, output_size, learning_rate, num_epochs)\n",
        "\n",
        "y_pred = predict(X_test, trained_parameters)  # Prediction on test set\n",
        "y_pred_labels = label_encoder.inverse_transform(y_pred)"
      ],
      "metadata": {
        "id": "FjiYr07YQcHH"
      },
      "execution_count": null,
      "outputs": []
    },
    {
      "cell_type": "code",
      "execution_count": null,
      "metadata": {
        "colab": {
          "base_uri": "https://localhost:8080/"
        },
        "id": "o6higL8WG6ry",
        "outputId": "0b15e67f-caf3-46cd-e0e3-7df70e8f4403"
      },
      "outputs": [
        {
          "output_type": "stream",
          "name": "stdout",
          "text": [
            "Predicted Species:\n",
            "['Iris-versicolor' 'Iris-setosa' 'Iris-virginica' 'Iris-versicolor'\n",
            " 'Iris-versicolor' 'Iris-setosa' 'Iris-versicolor' 'Iris-versicolor'\n",
            " 'Iris-versicolor' 'Iris-versicolor' 'Iris-versicolor' 'Iris-setosa'\n",
            " 'Iris-setosa' 'Iris-setosa' 'Iris-setosa' 'Iris-versicolor'\n",
            " 'Iris-virginica' 'Iris-versicolor' 'Iris-versicolor' 'Iris-virginica'\n",
            " 'Iris-setosa' 'Iris-versicolor' 'Iris-setosa' 'Iris-virginica'\n",
            " 'Iris-versicolor' 'Iris-virginica' 'Iris-virginica' 'Iris-virginica'\n",
            " 'Iris-setosa' 'Iris-setosa']\n",
            "Actual Species:\n",
            "['Iris-versicolor' 'Iris-setosa' 'Iris-virginica' 'Iris-versicolor'\n",
            " 'Iris-versicolor' 'Iris-setosa' 'Iris-versicolor' 'Iris-virginica'\n",
            " 'Iris-versicolor' 'Iris-versicolor' 'Iris-virginica' 'Iris-setosa'\n",
            " 'Iris-setosa' 'Iris-setosa' 'Iris-setosa' 'Iris-versicolor'\n",
            " 'Iris-virginica' 'Iris-versicolor' 'Iris-versicolor' 'Iris-virginica'\n",
            " 'Iris-setosa' 'Iris-virginica' 'Iris-setosa' 'Iris-virginica'\n",
            " 'Iris-virginica' 'Iris-virginica' 'Iris-virginica' 'Iris-virginica'\n",
            " 'Iris-setosa' 'Iris-setosa']\n"
          ]
        }
      ],
      "source": [
        "print(\"Predicted Species:\")\n",
        "print(y_pred_labels)\n",
        "\n",
        "y_test_labels = label_encoder.inverse_transform(np.argmax(y_test, axis=1))\n",
        "print(\"Actual Species:\")\n",
        "print(y_test_labels)\n"
      ]
    },
    {
      "cell_type": "code",
      "source": [
        "def AccuracyCalculation(y_true, y_pred):\n",
        "    correct_predictions = np.sum(y_true == y_pred)\n",
        "    total_examples = y_true.shape[0]\n",
        "    accuracy = correct_predictions / total_examples\n",
        "    return accuracy*100"
      ],
      "metadata": {
        "id": "YcjMk500JcBy"
      },
      "execution_count": null,
      "outputs": []
    },
    {
      "cell_type": "code",
      "source": [
        "accuracy = AccuracyCalculation(y_test_labels, y_pred_labels)\n",
        "print(\"Accuracy:\", accuracy)"
      ],
      "metadata": {
        "colab": {
          "base_uri": "https://localhost:8080/"
        },
        "id": "TqEUwHiOJgE-",
        "outputId": "f669a9d3-4af8-41df-a4ee-b879b229cd19"
      },
      "execution_count": null,
      "outputs": [
        {
          "output_type": "stream",
          "name": "stdout",
          "text": [
            "Accuracy: 86.66666666666667\n"
          ]
        }
      ]
    },
    {
      "cell_type": "code",
      "source": [
        "plt.plot(range(num_epochs), loss_list)\n",
        "plt.xlabel(\"Epoch\")\n",
        "plt.ylabel(\"Training Loss\")\n",
        "plt.title(\"Training Loss Curve\")\n",
        "plt.show()"
      ],
      "metadata": {
        "colab": {
          "base_uri": "https://localhost:8080/",
          "height": 472
        },
        "id": "tqKAKDctLQ0B",
        "outputId": "48339bbb-62a0-44db-bfb5-d0ad1e50ad94"
      },
      "execution_count": null,
      "outputs": [
        {
          "output_type": "display_data",
          "data": {
            "text/plain": [
              "<Figure size 640x480 with 1 Axes>"
            ],
            "image/png": "[encoded data removed]"
          },
          "metadata": {}
        }
      ]
    }
  ]
}